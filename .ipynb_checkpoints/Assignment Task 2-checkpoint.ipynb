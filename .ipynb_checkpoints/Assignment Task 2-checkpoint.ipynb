{
 "cells": [
  {
   "cell_type": "code",
   "execution_count": 62,
   "metadata": {},
   "outputs": [],
   "source": [
    "import os, skimage.io, matplotlib.pyplot as plt, numpy as np\n",
    "import seaborn as sns\n",
    "import numpy as np\n",
    "from sklearn.model_selection import train_test_split\n",
    "from sklearn import preprocessing\n",
    "from keras.models import Sequential\n",
    "from sklearn.model_selection import StratifiedKFold\n",
    "from keras.layers.core import Dense, Activation\n",
    "from keras.utils import np_utils\n",
    "import random"
   ]
  },
  {
   "cell_type": "code",
   "execution_count": 63,
   "metadata": {},
   "outputs": [],
   "source": [
    "folderName = \"MNIST fashion dataset\"\n",
    "labelNames = [\"T-shirt/top\",\n",
    "              \"Trouser\",\n",
    "              \"Pullover\",\n",
    "              \"Dress\",\n",
    "              \"Coat\",\n",
    "              \"Sandal\",\n",
    "              \"Shirt\",\n",
    "              \"Sneaker\",\n",
    "              \"Bag\",\n",
    "              \"Ankle boot\"]\n",
    "#these directly correspond to the folders names 0-9\n",
    "def load_data(data_directory):\n",
    "    directories = [d for d in os.listdir(data_directory)\n",
    "        if os.path.isdir(os.path.join(data_directory, d))]\n",
    "    labels = []\n",
    "    images = []\n",
    "    \n",
    "    for d in directories:\n",
    "        label_directory = os.path.join(data_directory, d)\n",
    "        print(\"loading:\",labelNames[int(d)],\"from\",label_directory)\n",
    "        file_names = [os.path.join(label_directory, f)for f in os.listdir(label_directory)]\n",
    "    \n",
    "        for f in file_names:\n",
    "            images.append(skimage.io.imread(f))\n",
    "            labels.append(labelNames[int(d)])\n",
    "        \n",
    "    return images, labels"
   ]
  },
  {
   "cell_type": "code",
   "execution_count": 64,
   "metadata": {},
   "outputs": [
    {
     "name": "stdout",
     "output_type": "stream",
     "text": [
      "loading: Sandal from /home/josh/uni/2018/2ndSemester/machine-learning/machine-learning-a2/MNIST fashion dataset/training/5\n",
      "loading: Bag from /home/josh/uni/2018/2ndSemester/machine-learning/machine-learning-a2/MNIST fashion dataset/training/8\n",
      "loading: T-shirt/top from /home/josh/uni/2018/2ndSemester/machine-learning/machine-learning-a2/MNIST fashion dataset/training/0\n",
      "loading: Coat from /home/josh/uni/2018/2ndSemester/machine-learning/machine-learning-a2/MNIST fashion dataset/training/4\n",
      "loading: Sneaker from /home/josh/uni/2018/2ndSemester/machine-learning/machine-learning-a2/MNIST fashion dataset/training/7\n",
      "loading: Pullover from /home/josh/uni/2018/2ndSemester/machine-learning/machine-learning-a2/MNIST fashion dataset/training/2\n",
      "loading: Trouser from /home/josh/uni/2018/2ndSemester/machine-learning/machine-learning-a2/MNIST fashion dataset/training/1\n",
      "loading: Dress from /home/josh/uni/2018/2ndSemester/machine-learning/machine-learning-a2/MNIST fashion dataset/training/3\n",
      "loading: Ankle boot from /home/josh/uni/2018/2ndSemester/machine-learning/machine-learning-a2/MNIST fashion dataset/training/9\n",
      "loading: Shirt from /home/josh/uni/2018/2ndSemester/machine-learning/machine-learning-a2/MNIST fashion dataset/training/6\n"
     ]
    }
   ],
   "source": [
    "train_data_path = os.path.join(os.getcwd(),folderName,\"training\")\n",
    "images, labels = load_data(train_data_path)"
   ]
  },
  {
   "cell_type": "code",
   "execution_count": 65,
   "metadata": {},
   "outputs": [
    {
     "name": "stdout",
     "output_type": "stream",
     "text": [
      "loading: Sandal from /home/josh/uni/2018/2ndSemester/machine-learning/machine-learning-a2/MNIST fashion dataset/testing/5\n",
      "loading: Bag from /home/josh/uni/2018/2ndSemester/machine-learning/machine-learning-a2/MNIST fashion dataset/testing/8\n",
      "loading: T-shirt/top from /home/josh/uni/2018/2ndSemester/machine-learning/machine-learning-a2/MNIST fashion dataset/testing/0\n",
      "loading: Coat from /home/josh/uni/2018/2ndSemester/machine-learning/machine-learning-a2/MNIST fashion dataset/testing/4\n",
      "loading: Sneaker from /home/josh/uni/2018/2ndSemester/machine-learning/machine-learning-a2/MNIST fashion dataset/testing/7\n",
      "loading: Pullover from /home/josh/uni/2018/2ndSemester/machine-learning/machine-learning-a2/MNIST fashion dataset/testing/2\n",
      "loading: Trouser from /home/josh/uni/2018/2ndSemester/machine-learning/machine-learning-a2/MNIST fashion dataset/testing/1\n",
      "loading: Dress from /home/josh/uni/2018/2ndSemester/machine-learning/machine-learning-a2/MNIST fashion dataset/testing/3\n",
      "loading: Ankle boot from /home/josh/uni/2018/2ndSemester/machine-learning/machine-learning-a2/MNIST fashion dataset/testing/9\n",
      "loading: Shirt from /home/josh/uni/2018/2ndSemester/machine-learning/machine-learning-a2/MNIST fashion dataset/testing/6\n"
     ]
    }
   ],
   "source": [
    "test_data_path = os.path.join(os.getcwd(),folderName,\"testing\")\n",
    "test_images, test_labels = load_data(test_data_path)"
   ]
  },
  {
   "cell_type": "code",
   "execution_count": 66,
   "metadata": {},
   "outputs": [],
   "source": [
    "#now we are converting them to numpy arrays\n",
    "images = np.asarray(images)\n",
    "test_images = np.asarray(test_images)\n",
    "labels = np.asarray(labels)\n",
    "test_labels = np.asarray(test_labels)\n",
    "\n",
    "#and then we splitting them up inot train and validation\n",
    "train_images,validation_images,train_labels,validation_labels = train_test_split(\n",
    "    images,\n",
    "    labels, \n",
    "    train_size=0.9, \n",
    "    test_size=0.1,\n",
    "    random_state=0)"
   ]
  },
  {
   "cell_type": "code",
   "execution_count": 67,
   "metadata": {},
   "outputs": [
    {
     "name": "stdout",
     "output_type": "stream",
     "text": [
      "(54000, 28, 28) (54000,) (6000, 28, 28) (6000,) (10000, 28, 28) (10000,)\n"
     ]
    }
   ],
   "source": [
    "print(train_images.shape,\n",
    "      train_labels.shape,\n",
    "      validation_images.shape,\n",
    "      validation_labels.shape,\n",
    "      test_images.shape,\n",
    "      test_labels.shape\n",
    "     )"
   ]
  },
  {
   "cell_type": "code",
   "execution_count": 68,
   "metadata": {},
   "outputs": [
    {
     "data": {
      "image/png": "[encoded data removed]",
      "text/plain": [
       "<Figure size 576x432 with 1 Axes>"
      ]
     },
     "metadata": {
      "needs_background": "light"
     },
     "output_type": "display_data"
    },
    {
     "name": "stdout",
     "output_type": "stream",
     "text": [
      " ^ This is: Sandal  ^ \n"
     ]
    },
    {
     "data": {
      "image/png": "[encoded data removed]",
      "text/plain": [
       "<Figure size 576x432 with 1 Axes>"
      ]
     },
     "metadata": {
      "needs_background": "light"
     },
     "output_type": "display_data"
    },
    {
     "name": "stdout",
     "output_type": "stream",
     "text": [
      " ^ This is: Bag  ^ \n"
     ]
    },
    {
     "data": {
      "image/png": "[encoded data removed]",
      "text/plain": [
       "<Figure size 576x432 with 1 Axes>"
      ]
     },
     "metadata": {
      "needs_background": "light"
     },
     "output_type": "display_data"
    },
    {
     "name": "stdout",
     "output_type": "stream",
     "text": [
      " ^ This is: Pullover  ^ \n"
     ]
    },
    {
     "data": {
      "image/png": "[encoded data removed]",
      "text/plain": [
       "<Figure size 576x432 with 1 Axes>"
      ]
     },
     "metadata": {
      "needs_background": "light"
     },
     "output_type": "display_data"
    },
    {
     "name": "stdout",
     "output_type": "stream",
     "text": [
      " ^ This is: Ankle boot  ^ \n"
     ]
    },
    {
     "data": {
      "image/png": "[encoded data removed]",
      "text/plain": [
       "<Figure size 576x432 with 1 Axes>"
      ]
     },
     "metadata": {
      "needs_background": "light"
     },
     "output_type": "display_data"
    },
    {
     "name": "stdout",
     "output_type": "stream",
     "text": [
      " ^ This is: Coat  ^ \n"
     ]
    },
    {
     "data": {
      "image/png": "[encoded data removed]",
      "text/plain": [
       "<Figure size 576x432 with 1 Axes>"
      ]
     },
     "metadata": {
      "needs_background": "light"
     },
     "output_type": "display_data"
    },
    {
     "name": "stdout",
     "output_type": "stream",
     "text": [
      " ^ This is: Dress  ^ \n"
     ]
    },
    {
     "data": {
      "image/png": "[encoded data removed]",
      "text/plain": [
       "<Figure size 576x432 with 1 Axes>"
      ]
     },
     "metadata": {
      "needs_background": "light"
     },
     "output_type": "display_data"
    },
    {
     "name": "stdout",
     "output_type": "stream",
     "text": [
      " ^ This is: Ankle boot  ^ \n"
     ]
    },
    {
     "data": {
      "image/png": "[encoded data removed]",
      "text/plain": [
       "<Figure size 576x432 with 1 Axes>"
      ]
     },
     "metadata": {
      "needs_background": "light"
     },
     "output_type": "display_data"
    },
    {
     "name": "stdout",
     "output_type": "stream",
     "text": [
      " ^ This is: Coat  ^ \n"
     ]
    },
    {
     "data": {
      "image/png": "[encoded data removed]",
      "text/plain": [
       "<Figure size 576x432 with 1 Axes>"
      ]
     },
     "metadata": {
      "needs_background": "light"
     },
     "output_type": "display_data"
    },
    {
     "name": "stdout",
     "output_type": "stream",
     "text": [
      " ^ This is: T-shirt/top  ^ \n"
     ]
    },
    {
     "data": {
      "image/png": "[encoded data removed]",
      "text/plain": [
       "<Figure size 576x432 with 1 Axes>"
      ]
     },
     "metadata": {
      "needs_background": "light"
     },
     "output_type": "display_data"
    },
    {
     "name": "stdout",
     "output_type": "stream",
     "text": [
      " ^ This is: Coat  ^ \n"
     ]
    }
   ],
   "source": [
    "#now quickly testing the right labels are applied\n",
    "for i in range(0,10):\n",
    "    plt.plot()\n",
    "    randImg = random.randint(0,test_images.shape[0])\n",
    "    plt.imshow(train_images[randImg], cmap=plt.get_cmap('gray'))\n",
    "    plt.show()\n",
    "    print(\" ^ This is:\",train_labels[randImg],\" ^ \")\n"
   ]
  },
  {
   "cell_type": "code",
   "execution_count": 69,
   "metadata": {},
   "outputs": [],
   "source": [
    "#now reformatting the images a single dimension arrays of pixels\n",
    "num_pixels = train_images.shape[1] * train_images.shape[2]\n",
    "train_images = train_images.reshape(train_images.shape[0],num_pixels).astype('float32')\n",
    "validation_images = validation_images.reshape(validation_images.shape[0],num_pixels).astype('float32')\n",
    "test_images = test_images.reshape(test_images.shape[0], num_pixels).astype('float32')"
   ]
  },
  {
   "cell_type": "code",
   "execution_count": 70,
   "metadata": {},
   "outputs": [],
   "source": [
    "train_images = train_images/255\n",
    "validation_images = validation_images/255\n",
    "test_images = test_images/255"
   ]
  },
  {
   "cell_type": "code",
   "execution_count": 82,
   "metadata": {},
   "outputs": [
    {
     "name": "stdout",
     "output_type": "stream",
     "text": [
      "[[1. 0. 0. ... 0. 0. 0.]\n",
      " [0. 0. 1. ... 0. 0. 0.]\n",
      " [0. 0. 0. ... 0. 0. 0.]\n",
      " ...\n",
      " [0. 0. 0. ... 0. 0. 0.]\n",
      " [0. 0. 0. ... 0. 0. 0.]\n",
      " [0. 0. 0. ... 0. 0. 0.]]\n",
      "[[1 0 0 ... 0 0 0]\n",
      " [0 0 1 ... 0 0 0]\n",
      " [0 0 0 ... 0 0 0]\n",
      " ...\n",
      " [0 0 0 ... 0 0 0]\n",
      " [0 0 0 ... 0 0 0]\n",
      " [0 0 0 ... 0 0 0]]\n",
      "[[0. 0. 0. ... 0. 0. 0.]\n",
      " [0. 0. 1. ... 0. 0. 0.]\n",
      " [0. 0. 0. ... 0. 0. 0.]\n",
      " ...\n",
      " [0. 0. 0. ... 0. 0. 0.]\n",
      " [0. 0. 0. ... 0. 0. 0.]\n",
      " [0. 0. 0. ... 0. 0. 0.]]\n",
      "[[0 0 0 ... 0 0 0]\n",
      " [0 0 1 ... 0 0 0]\n",
      " [0 0 0 ... 0 0 0]\n",
      " ...\n",
      " [0 0 0 ... 0 0 0]\n",
      " [0 0 0 ... 0 0 0]\n",
      " [0 0 0 ... 0 0 0]]\n",
      "[[0. 0. 0. ... 0. 0. 0.]\n",
      " [0. 0. 0. ... 0. 0. 0.]\n",
      " [0. 0. 0. ... 0. 0. 0.]\n",
      " ...\n",
      " [0. 0. 0. ... 0. 0. 0.]\n",
      " [0. 0. 0. ... 0. 0. 0.]\n",
      " [0. 0. 0. ... 0. 0. 0.]]\n",
      "[[0 0 0 ... 0 0 0]\n",
      " [0 0 0 ... 0 0 0]\n",
      " [0 0 0 ... 0 0 0]\n",
      " ...\n",
      " [0 0 0 ... 0 0 0]\n",
      " [0 0 0 ... 0 0 0]\n",
      " [0 0 0 ... 0 0 0]]\n"
     ]
    }
   ],
   "source": [
    "#now we need to convert these labels to something that can be read\n",
    "\n",
    "encoder = preprocessing.LabelBinarizer()\n",
    "transfomed_train_label = encoder.fit_transform(train_labels)\n",
    "print(train_labels)\n",
    "print(transfomed_train_label)\n",
    "\n",
    "\n",
    "transfomed_validation_label = encoder.fit_transform(validation_labels)\n",
    "print(validation_labels)\n",
    "print(transfomed_validation_label)\n",
    "\n",
    "transfomed_test_label = encoder.fit_transform(test_labels)\n",
    "print(test_labels)\n",
    "print(transfomed_test_label)\n",
    "\n",
    "train_labels = np_utils.to_categorical(transfomed_train_label)\n",
    "validation_labels = np_utils.to_categorical(transfomed_validation_label)\n",
    "test_labels = np_utils.to_categorical(transfomed_test_label)\n",
    "\n",
    "\n",
    "# trainle = preprocessing.LabelEncoder()\n",
    "# trainle.fit(train_labels)\n",
    "# print(trainle.transform(train_labels))\n",
    "\n",
    "# validationle = preprocessing.LabelEncoder()\n",
    "# validationle.fit(validation_labels)\n",
    "# print(validationle.transform(validation_labels))\n",
    "\n",
    "# testle = preprocessing.LabelEncoder()\n",
    "# testle.fit(test_labels)\n",
    "# print(testle.transform(test_labels))\n",
    "\n",
    "# train_labels = np_utils.to_categorical(le.transform(train_labels))\n",
    "# validation_labels = np_utils.to_categorical(validationle.transform(validation_labels))\n",
    "# test_labels = np_utils.to_categorical(testle.transform(test_labels))\n",
    "\n",
    "num_classes = train_labels.shape[1]\n",
    "\n",
    "#becasue this doesnt work"
   ]
  },
  {
   "cell_type": "code",
   "execution_count": 83,
   "metadata": {},
   "outputs": [],
   "source": [
    "model = Sequential()\n",
    "model.add(Dense(350, input_dim=num_pixels, activation='relu'))\n",
    "model.add(Dense(num_classes, activation='softmax'))\n",
    "model.compile(loss='categorical_crossentropy', optimizer='adam', metrics=['accuracy'])"
   ]
  },
  {
   "cell_type": "code",
   "execution_count": 84,
   "metadata": {},
   "outputs": [
    {
     "ename": "ValueError",
     "evalue": "Error when checking target: expected dense_6 to have 2 dimensions, but got array with shape (54000, 10, 2)",
     "output_type": "error",
     "traceback": [
      "\u001b[0;31m---------------------------------------------------------------------------\u001b[0m",
      "\u001b[0;31mValueError\u001b[0m                                Traceback (most recent call last)",
      "\u001b[0;32m<ipython-input-84-b8e9f60e2c37>\u001b[0m in \u001b[0;36m<module>\u001b[0;34m\u001b[0m\n\u001b[1;32m      6\u001b[0m         \u001b[0mvalidation_labels\u001b[0m\u001b[0;34m\u001b[0m\u001b[0m\n\u001b[1;32m      7\u001b[0m     ),\n\u001b[0;32m----> 8\u001b[0;31m     \u001b[0mepochs\u001b[0m\u001b[0;34m=\u001b[0m\u001b[0;36m5\u001b[0m\u001b[0;34m\u001b[0m\u001b[0m\n\u001b[0m\u001b[1;32m      9\u001b[0m )\n\u001b[1;32m     10\u001b[0m \u001b[0;34m\u001b[0m\u001b[0m\n",
      "\u001b[0;32m~/.conda/envs/deep-learning-keras/lib/python3.5/site-packages/keras/engine/training.py\u001b[0m in \u001b[0;36mfit\u001b[0;34m(self, x, y, batch_size, epochs, verbose, callbacks, validation_split, validation_data, shuffle, class_weight, sample_weight, initial_epoch, steps_per_epoch, validation_steps, **kwargs)\u001b[0m\n\u001b[1;32m    950\u001b[0m             \u001b[0msample_weight\u001b[0m\u001b[0;34m=\u001b[0m\u001b[0msample_weight\u001b[0m\u001b[0;34m,\u001b[0m\u001b[0;34m\u001b[0m\u001b[0m\n\u001b[1;32m    951\u001b[0m             \u001b[0mclass_weight\u001b[0m\u001b[0;34m=\u001b[0m\u001b[0mclass_weight\u001b[0m\u001b[0;34m,\u001b[0m\u001b[0;34m\u001b[0m\u001b[0m\n\u001b[0;32m--> 952\u001b[0;31m             batch_size=batch_size)\n\u001b[0m\u001b[1;32m    953\u001b[0m         \u001b[0;31m# Prepare validation data.\u001b[0m\u001b[0;34m\u001b[0m\u001b[0;34m\u001b[0m\u001b[0m\n\u001b[1;32m    954\u001b[0m         \u001b[0mdo_validation\u001b[0m \u001b[0;34m=\u001b[0m \u001b[0;32mFalse\u001b[0m\u001b[0;34m\u001b[0m\u001b[0m\n",
      "\u001b[0;32m~/.conda/envs/deep-learning-keras/lib/python3.5/site-packages/keras/engine/training.py\u001b[0m in \u001b[0;36m_standardize_user_data\u001b[0;34m(self, x, y, sample_weight, class_weight, check_array_lengths, batch_size)\u001b[0m\n\u001b[1;32m    787\u001b[0m                 \u001b[0mfeed_output_shapes\u001b[0m\u001b[0;34m,\u001b[0m\u001b[0;34m\u001b[0m\u001b[0m\n\u001b[1;32m    788\u001b[0m                 \u001b[0mcheck_batch_axis\u001b[0m\u001b[0;34m=\u001b[0m\u001b[0;32mFalse\u001b[0m\u001b[0;34m,\u001b[0m  \u001b[0;31m# Don't enforce the batch size.\u001b[0m\u001b[0;34m\u001b[0m\u001b[0m\n\u001b[0;32m--> 789\u001b[0;31m                 exception_prefix='target')\n\u001b[0m\u001b[1;32m    790\u001b[0m \u001b[0;34m\u001b[0m\u001b[0m\n\u001b[1;32m    791\u001b[0m             \u001b[0;31m# Generate sample-wise weight values given the `sample_weight` and\u001b[0m\u001b[0;34m\u001b[0m\u001b[0;34m\u001b[0m\u001b[0m\n",
      "\u001b[0;32m~/.conda/envs/deep-learning-keras/lib/python3.5/site-packages/keras/engine/training_utils.py\u001b[0m in \u001b[0;36mstandardize_input_data\u001b[0;34m(data, names, shapes, check_batch_axis, exception_prefix)\u001b[0m\n\u001b[1;32m    126\u001b[0m                         \u001b[0;34m': expected '\u001b[0m \u001b[0;34m+\u001b[0m \u001b[0mnames\u001b[0m\u001b[0;34m[\u001b[0m\u001b[0mi\u001b[0m\u001b[0;34m]\u001b[0m \u001b[0;34m+\u001b[0m \u001b[0;34m' to have '\u001b[0m \u001b[0;34m+\u001b[0m\u001b[0;34m\u001b[0m\u001b[0m\n\u001b[1;32m    127\u001b[0m                         \u001b[0mstr\u001b[0m\u001b[0;34m(\u001b[0m\u001b[0mlen\u001b[0m\u001b[0;34m(\u001b[0m\u001b[0mshape\u001b[0m\u001b[0;34m)\u001b[0m\u001b[0;34m)\u001b[0m \u001b[0;34m+\u001b[0m \u001b[0;34m' dimensions, but got array '\u001b[0m\u001b[0;34m\u001b[0m\u001b[0m\n\u001b[0;32m--> 128\u001b[0;31m                         'with shape ' + str(data_shape))\n\u001b[0m\u001b[1;32m    129\u001b[0m                 \u001b[0;32mif\u001b[0m \u001b[0;32mnot\u001b[0m \u001b[0mcheck_batch_axis\u001b[0m\u001b[0;34m:\u001b[0m\u001b[0;34m\u001b[0m\u001b[0m\n\u001b[1;32m    130\u001b[0m                     \u001b[0mdata_shape\u001b[0m \u001b[0;34m=\u001b[0m \u001b[0mdata_shape\u001b[0m\u001b[0;34m[\u001b[0m\u001b[0;36m1\u001b[0m\u001b[0;34m:\u001b[0m\u001b[0;34m]\u001b[0m\u001b[0;34m\u001b[0m\u001b[0m\n",
      "\u001b[0;31mValueError\u001b[0m: Error when checking target: expected dense_6 to have 2 dimensions, but got array with shape (54000, 10, 2)"
     ]
    }
   ],
   "source": [
    "history = model.fit(\n",
    "    train_images,\n",
    "    train_labels,\n",
    "    validation_data=(\n",
    "        validation_images,\n",
    "        validation_labels\n",
    "    ),\n",
    "    epochs=5\n",
    ")\n",
    "\n",
    "training_accuracy = history.history['acc']\n",
    "validation_accuracy = history.history['val_acc']\n",
    "\n",
    "training_error = history.history['loss']\n",
    "validation_error = history.history['val_loss']\n",
    "\n",
    "plt.figure(0)\n",
    "plt.plot(training_accuracy,'r')\n",
    "plt.plot(validation_accuracy,'g')\n",
    "plt.xticks(np.arange(0, len(training_accuracy), 2.0))\n",
    "plt.rcParams['figure.figsize'] = (8, 6)\n",
    "plt.xlabel(\"Num of Epochs\")\n",
    "plt.ylabel(\"Accuracy\")\n",
    "plt.title(\"Training Accuracy vs Validation Accuracy\")\n",
    "plt.legend(['train','validation'])\n",
    "\n",
    "plt.figure(1)\n",
    "plt.plot(training_error,'r')\n",
    "plt.plot(validation_error,'g')\n",
    "plt.xticks(np.arange(0, len(training_accuracy), 2.0))\n",
    "plt.rcParams['figure.figsize'] = (8, 6)\n",
    "plt.xlabel(\"Num of Epochs\")\n",
    "plt.ylabel(\"Loss\")\n",
    "plt.title(\"Training Loss vs Validation Loss\")\n",
    "plt.legend(['train','validation'])\n",
    "\n",
    "plt.show()\n"
   ]
  },
  {
   "cell_type": "code",
   "execution_count": 74,
   "metadata": {},
   "outputs": [
    {
     "name": "stdout",
     "output_type": "stream",
     "text": [
      "MLP Error on test set: 12.35%\n",
      "MLP Accuracy on test set: 87.65%\n"
     ]
    }
   ],
   "source": [
    "scores = model.evaluate(test_images, test_labels, verbose=0)\n",
    "print(\"MLP Error on test set: %.2f%%\" % (100-scores[1]*100))\n",
    "print(\"MLP Accuracy on test set: %.2f%%\" % (scores[1]*100))"
   ]
  },
  {
   "cell_type": "code",
   "execution_count": 80,
   "metadata": {},
   "outputs": [
    {
     "name": "stdout",
     "output_type": "stream",
     "text": [
      "['Ankle boot' 'Bag']\n"
     ]
    },
    {
     "data": {
      "image/png": "[encoded data removed]",
      "text/plain": [
       "<Figure size 576x432 with 1 Axes>"
      ]
     },
     "metadata": {
      "needs_background": "light"
     },
     "output_type": "display_data"
    }
   ],
   "source": [
    "import random\n",
    "\n",
    "image_index = random.randint(0,test_images.shape[0])\n",
    "random_image = test_images[image_index]\n",
    "random_label = model.predict(random_image.reshape(1,random_image.shape[0])).argmax(axis=-1)\n",
    "\n",
    "plt.subplot(221)\n",
    "plt.imshow(random_image.reshape(28,28), cmap=plt.get_cmap('gray'))\n",
    "print(class_labels)\n",
    "plt.title(\"Predicted Category: \"+str(random_label))\n",
    "plt.show()"
   ]
  }
 ],
 "metadata": {
  "kernelspec": {
   "display_name": "Python 3",
   "language": "python",
   "name": "python3"
  },
  "language_info": {
   "codemirror_mode": {
    "name": "ipython",
    "version": 3
   },
   "file_extension": ".py",
   "mimetype": "text/x-python",
   "name": "python",
   "nbconvert_exporter": "python",
   "pygments_lexer": "ipython3",
   "version": "3.5.5"
  }
 },
 "nbformat": 4,
 "nbformat_minor": 2
}
