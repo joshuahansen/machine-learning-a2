{
 "cells": [
  {
   "cell_type": "code",
   "execution_count": 13,
   "metadata": {},
   "outputs": [],
   "source": [
    "import os, skimage.io, matplotlib.pyplot as plt, numpy as np\n",
    "import seaborn as sns\n",
    "import numpy as np\n",
    "from sklearn.model_selection import train_test_split\n",
    "from keras.models import Sequential\n",
    "from sklearn.model_selection import StratifiedKFold\n",
    "from keras.layers.core import Dense, Activation\n",
    "from keras.utils import np_utils\n",
    "import random"
   ]
  },
  {
   "cell_type": "code",
   "execution_count": 8,
   "metadata": {},
   "outputs": [],
   "source": [
    "folderName = \"MNIST fashion dataset\"\n",
    "labelNames = [\"T-shirt/top\",\n",
    "              \"Trouser\",\n",
    "              \"Pullover\",\n",
    "              \"Dress\",\n",
    "              \"Coat\",\n",
    "              \"Sandal\",\n",
    "              \"Shirt\",\n",
    "              \"Sneaker\",\n",
    "              \"Bag\",\n",
    "              \"Ankle boot\"]\n",
    "#these directly correspond to the folders names 0-9\n",
    "def load_data(data_directory):\n",
    "    directories = [d for d in os.listdir(data_directory)\n",
    "        if os.path.isdir(os.path.join(data_directory, d))]\n",
    "    labels = []\n",
    "    images = []\n",
    "    \n",
    "    for d in directories:\n",
    "        label_directory = os.path.join(data_directory, d)\n",
    "        print(\"loading:\",labelNames[int(d)],\"from\",label_directory)\n",
    "        file_names = [os.path.join(label_directory, f)for f in os.listdir(label_directory)]\n",
    "    \n",
    "        for f in file_names:\n",
    "            images.append(skimage.io.imread(f))\n",
    "            labels.append(labelNames[int(d)])\n",
    "        \n",
    "    return images, labels"
   ]
  },
  {
   "cell_type": "code",
   "execution_count": 11,
   "metadata": {},
   "outputs": [
    {
     "name": "stdout",
     "output_type": "stream",
     "text": [
      "loading: T-shirt/top from C:\\Users\\Declan\\Repos\\machine-learning-a2\\MNIST fashion dataset\\training\\0\n",
      "loading: Trouser from C:\\Users\\Declan\\Repos\\machine-learning-a2\\MNIST fashion dataset\\training\\1\n",
      "loading: Pullover from C:\\Users\\Declan\\Repos\\machine-learning-a2\\MNIST fashion dataset\\training\\2\n",
      "loading: Dress from C:\\Users\\Declan\\Repos\\machine-learning-a2\\MNIST fashion dataset\\training\\3\n",
      "loading: Coat from C:\\Users\\Declan\\Repos\\machine-learning-a2\\MNIST fashion dataset\\training\\4\n",
      "loading: Sandal from C:\\Users\\Declan\\Repos\\machine-learning-a2\\MNIST fashion dataset\\training\\5\n",
      "loading: Shirt from C:\\Users\\Declan\\Repos\\machine-learning-a2\\MNIST fashion dataset\\training\\6\n",
      "loading: Sneaker from C:\\Users\\Declan\\Repos\\machine-learning-a2\\MNIST fashion dataset\\training\\7\n",
      "loading: Bag from C:\\Users\\Declan\\Repos\\machine-learning-a2\\MNIST fashion dataset\\training\\8\n",
      "loading: Ankle boot from C:\\Users\\Declan\\Repos\\machine-learning-a2\\MNIST fashion dataset\\training\\9\n"
     ]
    }
   ],
   "source": [
    "train_data_path = os.path.join(os.getcwd(),folderName,\"training\")\n",
    "images, labels = load_data(train_data_path)"
   ]
  },
  {
   "cell_type": "code",
   "execution_count": 10,
   "metadata": {},
   "outputs": [
    {
     "name": "stdout",
     "output_type": "stream",
     "text": [
      "loading: T-shirt/top from C:\\Users\\Declan\\Repos\\machine-learning-a2\\MNIST fashion dataset\\testing\\0\n",
      "loading: Trouser from C:\\Users\\Declan\\Repos\\machine-learning-a2\\MNIST fashion dataset\\testing\\1\n",
      "loading: Pullover from C:\\Users\\Declan\\Repos\\machine-learning-a2\\MNIST fashion dataset\\testing\\2\n",
      "loading: Dress from C:\\Users\\Declan\\Repos\\machine-learning-a2\\MNIST fashion dataset\\testing\\3\n",
      "loading: Coat from C:\\Users\\Declan\\Repos\\machine-learning-a2\\MNIST fashion dataset\\testing\\4\n",
      "loading: Sandal from C:\\Users\\Declan\\Repos\\machine-learning-a2\\MNIST fashion dataset\\testing\\5\n",
      "loading: Shirt from C:\\Users\\Declan\\Repos\\machine-learning-a2\\MNIST fashion dataset\\testing\\6\n",
      "loading: Sneaker from C:\\Users\\Declan\\Repos\\machine-learning-a2\\MNIST fashion dataset\\testing\\7\n",
      "loading: Bag from C:\\Users\\Declan\\Repos\\machine-learning-a2\\MNIST fashion dataset\\testing\\8\n",
      "loading: Ankle boot from C:\\Users\\Declan\\Repos\\machine-learning-a2\\MNIST fashion dataset\\testing\\9\n"
     ]
    }
   ],
   "source": [
    "test_data_path = os.path.join(os.getcwd(),folderName,\"testing\")\n",
    "test_images, test_labels = load_data(test_data_path)"
   ]
  },
  {
   "cell_type": "code",
   "execution_count": 51,
   "metadata": {},
   "outputs": [],
   "source": [
    "#now we are converting them to numpy arrays\n",
    "images = np.asarray(images)\n",
    "test_images = np.asarray(test_images)\n",
    "labels = np.asarray(labels)\n",
    "test_labels = np.asarray(test_labels)\n",
    "\n",
    "#and then we splitting them up inot train and validation\n",
    "train_images,validation_images,train_labels,validation_labels = train_test_split(\n",
    "    images,\n",
    "    labels, \n",
    "    train_size=0.9, \n",
    "    test_size=0.1,\n",
    "    random_state=0)"
   ]
  },
  {
   "cell_type": "code",
   "execution_count": 50,
   "metadata": {},
   "outputs": [
    {
     "data": {
      "image/png": "[encoded data removed]",
      "text/plain": [
       "<Figure size 432x288 with 1 Axes>"
      ]
     },
     "metadata": {
      "needs_background": "light"
     },
     "output_type": "display_data"
    },
    {
     "name": "stdout",
     "output_type": "stream",
     "text": [
      " ^ This is: Bag  ^ \n"
     ]
    },
    {
     "data": {
      "image/png": "[encoded data removed]",
      "text/plain": [
       "<Figure size 432x288 with 1 Axes>"
      ]
     },
     "metadata": {
      "needs_background": "light"
     },
     "output_type": "display_data"
    },
    {
     "name": "stdout",
     "output_type": "stream",
     "text": [
      " ^ This is: Trouser  ^ \n"
     ]
    },
    {
     "data": {
      "image/png": "[encoded data removed]",
      "text/plain": [
       "<Figure size 432x288 with 1 Axes>"
      ]
     },
     "metadata": {
      "needs_background": "light"
     },
     "output_type": "display_data"
    },
    {
     "name": "stdout",
     "output_type": "stream",
     "text": [
      " ^ This is: Dress  ^ \n"
     ]
    },
    {
     "data": {
      "image/png": "[encoded data removed]",
      "text/plain": [
       "<Figure size 432x288 with 1 Axes>"
      ]
     },
     "metadata": {
      "needs_background": "light"
     },
     "output_type": "display_data"
    },
    {
     "name": "stdout",
     "output_type": "stream",
     "text": [
      " ^ This is: Sneaker  ^ \n"
     ]
    },
    {
     "data": {
      "image/png": "[encoded data removed]",
      "text/plain": [
       "<Figure size 432x288 with 1 Axes>"
      ]
     },
     "metadata": {
      "needs_background": "light"
     },
     "output_type": "display_data"
    },
    {
     "name": "stdout",
     "output_type": "stream",
     "text": [
      " ^ This is: Dress  ^ \n"
     ]
    },
    {
     "data": {
      "image/png": "[encoded data removed]",
      "text/plain": [
       "<Figure size 432x288 with 1 Axes>"
      ]
     },
     "metadata": {
      "needs_background": "light"
     },
     "output_type": "display_data"
    },
    {
     "name": "stdout",
     "output_type": "stream",
     "text": [
      " ^ This is: Dress  ^ \n"
     ]
    },
    {
     "data": {
      "image/png": "[encoded data removed]",
      "text/plain": [
       "<Figure size 432x288 with 1 Axes>"
      ]
     },
     "metadata": {
      "needs_background": "light"
     },
     "output_type": "display_data"
    },
    {
     "name": "stdout",
     "output_type": "stream",
     "text": [
      " ^ This is: Coat  ^ \n"
     ]
    },
    {
     "data": {
      "image/png": "[encoded data removed]",
      "text/plain": [
       "<Figure size 432x288 with 1 Axes>"
      ]
     },
     "metadata": {
      "needs_background": "light"
     },
     "output_type": "display_data"
    },
    {
     "name": "stdout",
     "output_type": "stream",
     "text": [
      " ^ This is: Coat  ^ \n"
     ]
    },
    {
     "data": {
      "image/png": "[encoded data removed]",
      "text/plain": [
       "<Figure size 432x288 with 1 Axes>"
      ]
     },
     "metadata": {
      "needs_background": "light"
     },
     "output_type": "display_data"
    },
    {
     "name": "stdout",
     "output_type": "stream",
     "text": [
      " ^ This is: Pullover  ^ \n"
     ]
    },
    {
     "data": {
      "image/png": "[encoded data removed]",
      "text/plain": [
       "<Figure size 432x288 with 1 Axes>"
      ]
     },
     "metadata": {
      "needs_background": "light"
     },
     "output_type": "display_data"
    },
    {
     "name": "stdout",
     "output_type": "stream",
     "text": [
      " ^ This is: Bag  ^ \n"
     ]
    }
   ],
   "source": [
    "#now quickly testing the right labels are applied\n",
    "for i in range(0,10):\n",
    "    plt.plot()\n",
    "    randImg = random.randint(0,test_images.shape[0])\n",
    "    plt.imshow(train_images[randImg], cmap=plt.get_cmap('gray'))\n",
    "    plt.show()\n",
    "    print(\" ^ This is:\",train_labels[randImg],\" ^ \")\n"
   ]
  },
  {
   "cell_type": "code",
   "execution_count": 52,
   "metadata": {},
   "outputs": [],
   "source": [
    "#now reformatting the images a single dimension arrays of pixels\n",
    "num_pixels = train_images.shape[1] * train_images.shape[2]\n",
    "train_images = train_images.reshape(train_images.shape[0],num_pixels).astype('float32')\n",
    "validation_images = validation_images.reshape(validation_images.shape[0],num_pixels).astype('float32')\n",
    "test_images = test_images.reshape(test_images.shape[0], num_pixels).astype('float32')"
   ]
  },
  {
   "cell_type": "code",
   "execution_count": 54,
   "metadata": {},
   "outputs": [
    {
     "ename": "ValueError",
     "evalue": "invalid literal for int() with base 10: 'Bag'",
     "output_type": "error",
     "traceback": [
      "\u001b[1;31m---------------------------------------------------------------------------\u001b[0m",
      "\u001b[1;31mValueError\u001b[0m                                Traceback (most recent call last)",
      "\u001b[1;32m<ipython-input-54-bf056335bbff>\u001b[0m in \u001b[0;36m<module>\u001b[1;34m()\u001b[0m\n\u001b[0;32m      1\u001b[0m \u001b[1;31m#now we need to convert these labels to something that can be read\u001b[0m\u001b[1;33m\u001b[0m\u001b[1;33m\u001b[0m\u001b[0m\n\u001b[1;32m----> 2\u001b[1;33m \u001b[0mtrain_labels\u001b[0m \u001b[1;33m=\u001b[0m \u001b[0mnp_utils\u001b[0m\u001b[1;33m.\u001b[0m\u001b[0mto_categorical\u001b[0m\u001b[1;33m(\u001b[0m\u001b[0mtrain_labels\u001b[0m\u001b[1;33m)\u001b[0m\u001b[1;33m\u001b[0m\u001b[0m\n\u001b[0m\u001b[0;32m      3\u001b[0m \u001b[0mvalidation_labels\u001b[0m \u001b[1;33m=\u001b[0m \u001b[0mnp_utils\u001b[0m\u001b[1;33m.\u001b[0m\u001b[0mto_categorical\u001b[0m\u001b[1;33m(\u001b[0m\u001b[0mvalidation_labels\u001b[0m\u001b[1;33m)\u001b[0m\u001b[1;33m\u001b[0m\u001b[0m\n\u001b[0;32m      4\u001b[0m \u001b[0mtest_labels\u001b[0m \u001b[1;33m=\u001b[0m \u001b[0mnp_utils\u001b[0m\u001b[1;33m.\u001b[0m\u001b[0mto_categorical\u001b[0m\u001b[1;33m(\u001b[0m\u001b[0mtest_labels\u001b[0m\u001b[1;33m)\u001b[0m\u001b[1;33m\u001b[0m\u001b[0m\n\u001b[0;32m      5\u001b[0m \u001b[0mnum_classes\u001b[0m \u001b[1;33m=\u001b[0m \u001b[0mtrain_labels\u001b[0m\u001b[1;33m.\u001b[0m\u001b[0mshape\u001b[0m\u001b[1;33m[\u001b[0m\u001b[1;36m1\u001b[0m\u001b[1;33m]\u001b[0m\u001b[1;33m\u001b[0m\u001b[0m\n",
      "\u001b[1;32m~\\AppData\\Local\\conda\\conda\\envs\\deep-learning-keras\\lib\\site-packages\\keras\\utils\\np_utils.py\u001b[0m in \u001b[0;36mto_categorical\u001b[1;34m(y, num_classes)\u001b[0m\n\u001b[0;32m     21\u001b[0m         \u001b[1;32mis\u001b[0m \u001b[0mplaced\u001b[0m \u001b[0mlast\u001b[0m\u001b[1;33m.\u001b[0m\u001b[1;33m\u001b[0m\u001b[0m\n\u001b[0;32m     22\u001b[0m     \"\"\"\n\u001b[1;32m---> 23\u001b[1;33m     \u001b[0my\u001b[0m \u001b[1;33m=\u001b[0m \u001b[0mnp\u001b[0m\u001b[1;33m.\u001b[0m\u001b[0marray\u001b[0m\u001b[1;33m(\u001b[0m\u001b[0my\u001b[0m\u001b[1;33m,\u001b[0m \u001b[0mdtype\u001b[0m\u001b[1;33m=\u001b[0m\u001b[1;34m'int'\u001b[0m\u001b[1;33m)\u001b[0m\u001b[1;33m\u001b[0m\u001b[0m\n\u001b[0m\u001b[0;32m     24\u001b[0m     \u001b[0minput_shape\u001b[0m \u001b[1;33m=\u001b[0m \u001b[0my\u001b[0m\u001b[1;33m.\u001b[0m\u001b[0mshape\u001b[0m\u001b[1;33m\u001b[0m\u001b[0m\n\u001b[0;32m     25\u001b[0m     \u001b[1;32mif\u001b[0m \u001b[0minput_shape\u001b[0m \u001b[1;32mand\u001b[0m \u001b[0minput_shape\u001b[0m\u001b[1;33m[\u001b[0m\u001b[1;33m-\u001b[0m\u001b[1;36m1\u001b[0m\u001b[1;33m]\u001b[0m \u001b[1;33m==\u001b[0m \u001b[1;36m1\u001b[0m \u001b[1;32mand\u001b[0m \u001b[0mlen\u001b[0m\u001b[1;33m(\u001b[0m\u001b[0minput_shape\u001b[0m\u001b[1;33m)\u001b[0m \u001b[1;33m>\u001b[0m \u001b[1;36m1\u001b[0m\u001b[1;33m:\u001b[0m\u001b[1;33m\u001b[0m\u001b[0m\n",
      "\u001b[1;31mValueError\u001b[0m: invalid literal for int() with base 10: 'Bag'"
     ]
    }
   ],
   "source": [
    "#now we need to convert these labels to something that can be read\n",
    "train_labels = np_utils.to_categorical(train_labels)\n",
    "validation_labels = np_utils.to_categorical(validation_labels)\n",
    "test_labels = np_utils.to_categorical(test_labels)\n",
    "num_classes = train_labels.shape[1]\n",
    "\n",
    "#becasue this doesnt work"
   ]
  },
  {
   "cell_type": "code",
   "execution_count": null,
   "metadata": {},
   "outputs": [],
   "source": []
  }
 ],
 "metadata": {
  "kernelspec": {
   "display_name": "Python 3",
   "language": "python",
   "name": "python3"
  },
  "language_info": {
   "codemirror_mode": {
    "name": "ipython",
    "version": 3
   },
   "file_extension": ".py",
   "mimetype": "text/x-python",
   "name": "python",
   "nbconvert_exporter": "python",
   "pygments_lexer": "ipython3",
   "version": "3.5.6"
  }
 },
 "nbformat": 4,
 "nbformat_minor": 2
}
