{
 "cells": [
  {
   "cell_type": "code",
   "execution_count": 1,
   "metadata": {},
   "outputs": [
    {
     "name": "stderr",
     "output_type": "stream",
     "text": [
      "Using TensorFlow backend.\n"
     ]
    }
   ],
   "source": [
    "import os, skimage.io, matplotlib.pyplot as plt, numpy as np\n",
    "import seaborn as sns\n",
    "import numpy as np\n",
    "from sklearn.model_selection import train_test_split\n",
    "from keras.models import Sequential\n",
    "from sklearn.model_selection import StratifiedKFold\n",
    "from keras.layers.core import Dense, Activation\n",
    "from keras.utils import np_utils\n",
    "import random"
   ]
  },
  {
   "cell_type": "code",
   "execution_count": 2,
   "metadata": {},
   "outputs": [],
   "source": [
    "folderName = \"MNIST fashion dataset\"\n",
    "labelNames = [\"T-shirt/top\",\n",
    "              \"Trouser\",\n",
    "              \"Pullover\",\n",
    "              \"Dress\",\n",
    "              \"Coat\",\n",
    "              \"Sandal\",\n",
    "              \"Shirt\",\n",
    "              \"Sneaker\",\n",
    "              \"Bag\",\n",
    "              \"Ankle boot\"]\n",
    "#these directly correspond to the folders names 0-9\n",
    "def load_data(data_directory):\n",
    "    directories = [d for d in os.listdir(data_directory)\n",
    "        if os.path.isdir(os.path.join(data_directory, d))]\n",
    "    labels = []\n",
    "    images = []\n",
    "    \n",
    "    for d in directories:\n",
    "        label_directory = os.path.join(data_directory, d)\n",
    "        print(\"loading:\",labelNames[int(d)])\n",
    "        file_names = [os.path.join(label_directory, f)for f in os.listdir(label_directory)]\n",
    "    \n",
    "        for f in file_names:\n",
    "            images.append(skimage.io.imread(f))\n",
    "            labels.append(int(d))\n",
    "        \n",
    "    return images, labels"
   ]
  },
  {
   "cell_type": "code",
   "execution_count": 3,
   "metadata": {},
   "outputs": [
    {
     "name": "stdout",
     "output_type": "stream",
     "text": [
      "loading: Sandal\n",
      "loading: Bag\n",
      "loading: T-shirt/top\n",
      "loading: Coat\n",
      "loading: Sneaker\n",
      "loading: Pullover\n",
      "loading: Trouser\n",
      "loading: Dress\n",
      "loading: Ankle boot\n",
      "loading: Shirt\n"
     ]
    }
   ],
   "source": [
    "train_data_path = os.path.join(os.getcwd(),folderName,\"training\")\n",
    "images, labels = load_data(train_data_path)"
   ]
  },
  {
   "cell_type": "code",
   "execution_count": 4,
   "metadata": {},
   "outputs": [
    {
     "name": "stdout",
     "output_type": "stream",
     "text": [
      "loading: Sandal\n",
      "loading: Bag\n",
      "loading: T-shirt/top\n",
      "loading: Coat\n",
      "loading: Sneaker\n",
      "loading: Pullover\n",
      "loading: Trouser\n",
      "loading: Dress\n",
      "loading: Ankle boot\n",
      "loading: Shirt\n"
     ]
    }
   ],
   "source": [
    "test_data_path = os.path.join(os.getcwd(),folderName,\"testing\")\n",
    "test_images, test_labels = load_data(test_data_path)"
   ]
  },
  {
   "cell_type": "code",
   "execution_count": 5,
   "metadata": {},
   "outputs": [],
   "source": [
    "#now we are converting them to numpy arrays\n",
    "images = np.asarray(images)\n",
    "test_images = np.asarray(test_images)\n",
    "labels = np.asarray(labels)\n",
    "test_labels = np.asarray(test_labels)\n",
    "\n",
    "\n",
    "#and then we splitting them up inot train and validation\n",
    "train_images,validation_images,train_labels,validation_labels = train_test_split(\n",
    "    images,\n",
    "    labels, \n",
    "    train_size=0.9, \n",
    "    test_size=0.1,\n",
    "    random_state=0)"
   ]
  },
  {
   "cell_type": "code",
   "execution_count": 6,
   "metadata": {},
   "outputs": [
    {
     "data": {
      "image/png": "[encoded data removed]",
      "text/plain": [
       "<Figure size 432x288 with 1 Axes>"
      ]
     },
     "metadata": {
      "needs_background": "light"
     },
     "output_type": "display_data"
    },
    {
     "name": "stdout",
     "output_type": "stream",
     "text": [
      " ^ This is: 9  ^ \n"
     ]
    },
    {
     "data": {
      "image/png": "[encoded data removed]",
      "text/plain": [
       "<Figure size 432x288 with 1 Axes>"
      ]
     },
     "metadata": {
      "needs_background": "light"
     },
     "output_type": "display_data"
    },
    {
     "name": "stdout",
     "output_type": "stream",
     "text": [
      " ^ This is: 3  ^ \n"
     ]
    },
    {
     "data": {
      "image/png": "[encoded data removed]",
      "text/plain": [
       "<Figure size 432x288 with 1 Axes>"
      ]
     },
     "metadata": {
      "needs_background": "light"
     },
     "output_type": "display_data"
    },
    {
     "name": "stdout",
     "output_type": "stream",
     "text": [
      " ^ This is: 6  ^ \n"
     ]
    },
    {
     "data": {
      "image/png": "[encoded data removed]",
      "text/plain": [
       "<Figure size 432x288 with 1 Axes>"
      ]
     },
     "metadata": {
      "needs_background": "light"
     },
     "output_type": "display_data"
    },
    {
     "name": "stdout",
     "output_type": "stream",
     "text": [
      " ^ This is: 8  ^ \n"
     ]
    },
    {
     "data": {
      "image/png": "[encoded data removed]",
      "text/plain": [
       "<Figure size 432x288 with 1 Axes>"
      ]
     },
     "metadata": {
      "needs_background": "light"
     },
     "output_type": "display_data"
    },
    {
     "name": "stdout",
     "output_type": "stream",
     "text": [
      " ^ This is: 2  ^ \n"
     ]
    },
    {
     "data": {
      "image/png": "[encoded data removed]",
      "text/plain": [
       "<Figure size 432x288 with 1 Axes>"
      ]
     },
     "metadata": {
      "needs_background": "light"
     },
     "output_type": "display_data"
    },
    {
     "name": "stdout",
     "output_type": "stream",
     "text": [
      " ^ This is: 2  ^ \n"
     ]
    },
    {
     "data": {
      "image/png": "[encoded data removed]",
      "text/plain": [
       "<Figure size 432x288 with 1 Axes>"
      ]
     },
     "metadata": {
      "needs_background": "light"
     },
     "output_type": "display_data"
    },
    {
     "name": "stdout",
     "output_type": "stream",
     "text": [
      " ^ This is: 5  ^ \n"
     ]
    },
    {
     "data": {
      "image/png": "[encoded data removed]",
      "text/plain": [
       "<Figure size 432x288 with 1 Axes>"
      ]
     },
     "metadata": {
      "needs_background": "light"
     },
     "output_type": "display_data"
    },
    {
     "name": "stdout",
     "output_type": "stream",
     "text": [
      " ^ This is: 0  ^ \n"
     ]
    },
    {
     "data": {
      "image/png": "[encoded data removed]",
      "text/plain": [
       "<Figure size 432x288 with 1 Axes>"
      ]
     },
     "metadata": {
      "needs_background": "light"
     },
     "output_type": "display_data"
    },
    {
     "name": "stdout",
     "output_type": "stream",
     "text": [
      " ^ This is: 1  ^ \n"
     ]
    },
    {
     "data": {
      "image/png": "[encoded data removed]",
      "text/plain": [
       "<Figure size 432x288 with 1 Axes>"
      ]
     },
     "metadata": {
      "needs_background": "light"
     },
     "output_type": "display_data"
    },
    {
     "name": "stdout",
     "output_type": "stream",
     "text": [
      " ^ This is: 5  ^ \n"
     ]
    }
   ],
   "source": [
    "#now quickly testing the right labels are applied\n",
    "for i in range(0,10):\n",
    "    plt.plot()\n",
    "    randImg = random.randint(0,test_images.shape[0])\n",
    "    plt.imshow(train_images[randImg], cmap=plt.get_cmap('gray'))\n",
    "    plt.show()\n",
    "    print(\" ^ This is:\",train_labels[randImg],\" ^ \")\n"
   ]
  },
  {
   "cell_type": "code",
   "execution_count": 7,
   "metadata": {},
   "outputs": [],
   "source": [
    "#now reformatting the images a single dimension arrays of pixels\n",
    "num_pixels = train_images.shape[1] * train_images.shape[2]\n",
    "train_images = train_images.reshape(train_images.shape[0],num_pixels).astype('float32')\n",
    "validation_images = validation_images.reshape(validation_images.shape[0],num_pixels).astype('float32')\n",
    "test_images = test_images.reshape(test_images.shape[0], num_pixels).astype('float32')"
   ]
  },
  {
   "cell_type": "code",
   "execution_count": 8,
   "metadata": {
    "scrolled": true
   },
   "outputs": [],
   "source": [
    "train_images = train_images/255\n",
    "validation_images = validation_images/255\n",
    "test_images = test_images/255\n",
    "\n",
    "#now we need to convert these labels to something that can be read\n",
    "train_labels = np_utils.to_categorical(train_labels)\n",
    "validation_labels = np_utils.to_categorical(validation_labels)\n",
    "test_labels = np_utils.to_categorical(test_labels)\n",
    "num_classes = train_labels.shape[1]\n",
    "\n"
   ]
  },
  {
   "cell_type": "code",
   "execution_count": 9,
   "metadata": {},
   "outputs": [
    {
     "name": "stdout",
     "output_type": "stream",
     "text": [
      "Train on 54000 samples, validate on 6000 samples\n",
      "Epoch 1/10\n",
      "54000/54000 [==============================] - 5s 95us/step - loss: 0.4910 - acc: 0.8269 - val_loss: 0.4104 - val_acc: 0.8532\n",
      "Epoch 2/10\n",
      "54000/54000 [==============================] - 5s 94us/step - loss: 0.3686 - acc: 0.8664 - val_loss: 0.3617 - val_acc: 0.8633\n",
      "Epoch 3/10\n",
      "54000/54000 [==============================] - 5s 92us/step - loss: 0.3327 - acc: 0.8784 - val_loss: 0.3619 - val_acc: 0.8628\n",
      "Epoch 4/10\n",
      "54000/54000 [==============================] - 4s 82us/step - loss: 0.3085 - acc: 0.8864 - val_loss: 0.3291 - val_acc: 0.8780\n",
      "Epoch 5/10\n",
      "54000/54000 [==============================] - 5s 85us/step - loss: 0.2885 - acc: 0.8936 - val_loss: 0.3289 - val_acc: 0.8803\n",
      "Epoch 6/10\n",
      "54000/54000 [==============================] - 5s 84us/step - loss: 0.2742 - acc: 0.8990 - val_loss: 0.3284 - val_acc: 0.8835\n",
      "Epoch 7/10\n",
      "54000/54000 [==============================] - 4s 77us/step - loss: 0.2609 - acc: 0.9041 - val_loss: 0.3507 - val_acc: 0.8727\n",
      "Epoch 8/10\n",
      "54000/54000 [==============================] - 4s 80us/step - loss: 0.2499 - acc: 0.9067 - val_loss: 0.3045 - val_acc: 0.8865\n",
      "Epoch 9/10\n",
      "54000/54000 [==============================] - 4s 77us/step - loss: 0.2384 - acc: 0.9107 - val_loss: 0.3184 - val_acc: 0.8825\n",
      "Epoch 10/10\n",
      "54000/54000 [==============================] - 4s 79us/step - loss: 0.2302 - acc: 0.9138 - val_loss: 0.3115 - val_acc: 0.8860\n"
     ]
    }
   ],
   "source": [
    "#training the model\n",
    "model = Sequential()\n",
    "model.add(Dense(254, input_dim=num_pixels, activation='relu'))\n",
    "model.add(Dense(num_classes, activation='softmax'))\n",
    "model.compile(loss='categorical_crossentropy', optimizer='adam', metrics=['accuracy'])\n",
    "\n",
    "history = model.fit(\n",
    "    train_images, \n",
    "    train_labels,\n",
    "    validation_data=(\n",
    "        validation_images,\n",
    "        validation_labels),\n",
    "    epochs=10)"
   ]
  },
  {
   "cell_type": "code",
   "execution_count": 10,
   "metadata": {},
   "outputs": [
    {
     "name": "stdout",
     "output_type": "stream",
     "text": [
      "MLP Accuracy on training set: 91.83%\n",
      "MLP Accuracy on validation training: 88.60%\n",
      "MLP Accuracy on test set: 87.97%\n"
     ]
    }
   ],
   "source": [
    "# Testing how accurate the model is on the actual testing data\n",
    "trainScores = model.evaluate(train_images, train_labels, verbose=0)\n",
    "print(\"MLP Accuracy on training set: %.2f%%\" % (trainScores[1]*100))\n",
    "\n",
    "valScores = model.evaluate(validation_images, validation_labels, verbose=0)\n",
    "print(\"MLP Accuracy on validation training: %.2f%%\" % (valScores[1]*100))\n",
    "\n",
    "testScores = model.evaluate(test_images, test_labels, verbose=0)\n",
    "print(\"MLP Accuracy on test set: %.2f%%\" % (testScores[1]*100))"
   ]
  },
  {
   "cell_type": "code",
   "execution_count": 11,
   "metadata": {},
   "outputs": [
    {
     "data": {
      "image/png": "[encoded data removed]",
      "text/plain": [
       "<Figure size 432x288 with 1 Axes>"
      ]
     },
     "metadata": {
      "needs_background": "light"
     },
     "output_type": "display_data"
    }
   ],
   "source": [
    "#accuracy of the validation and training\n",
    "training_accuracy = history.history['acc']\n",
    "validation_accuracy = history.history['val_acc']\n",
    "\n",
    "plt.figure(0)\n",
    "plt.plot(training_accuracy,'r')\n",
    "plt.plot(validation_accuracy,'g')\n",
    "plt.xticks(np.arange(0, len(training_accuracy), 2.0))\n",
    "plt.rcParams['figure.figsize'] = (8, 6)\n",
    "plt.xlabel(\"Num of Epochs\")\n",
    "plt.ylabel(\"Accuracy\")\n",
    "plt.title(\"Training Accuracy vs Validation Accuracy\")\n",
    "plt.legend(['train','validation'])\n",
    "\n",
    "plt.show()"
   ]
  },
  {
   "cell_type": "code",
   "execution_count": 12,
   "metadata": {},
   "outputs": [],
   "source": [
    "#attempting k-fold valid to get more accuracy\n",
    "images = images.reshape(images.shape[0], num_pixels).astype('float32')\n",
    "images = images/255\n",
    "temp_labels = labels\n",
    "labels = np_utils.to_categorical(labels)\n",
    "\n",
    "kfold = StratifiedKFold(n_splits=5, shuffle=True)\n",
    "# create model\n",
    "model = Sequential()\n",
    "model.add(Dense(250, input_dim=num_pixels, activation='relu'))\n",
    "model.add(Dense(num_classes, activation='softmax'))\n",
    "model.compile(loss='categorical_crossentropy', optimizer='adam',metrics=['accuracy'])\n",
    "  "
   ]
  },
  {
   "cell_type": "code",
   "execution_count": 13,
   "metadata": {},
   "outputs": [
    {
     "name": "stdout",
     "output_type": "stream",
     "text": [
      "acc: 84.52%\n",
      "acc: 86.46%\n",
      "acc: 88.79%\n",
      "acc: 89.31%\n",
      "acc: 88.88%\n"
     ]
    }
   ],
   "source": [
    "for train, test in kfold.split(images, temp_labels):\n",
    "    model.fit(images[train], labels[train], epochs=1, verbose=0)\n",
    "    scores = model.evaluate(images[test], labels[test], verbose=0)\n",
    "    print(\"%s: %.2f%%\" % (model.metrics_names[1], scores[1]*100))"
   ]
  },
  {
   "cell_type": "code",
   "execution_count": 14,
   "metadata": {},
   "outputs": [
    {
     "name": "stdout",
     "output_type": "stream",
     "text": [
      "MLP Accuracy on test set: 87.14%\n"
     ]
    }
   ],
   "source": [
    "testScores = model.evaluate(test_images, test_labels, verbose=0)\n",
    "print(\"MLP Accuracy on test set: %.2f%%\" % (testScores[1]*100))"
   ]
  },
  {
   "cell_type": "code",
   "execution_count": 15,
   "metadata": {},
   "outputs": [
    {
     "name": "stdout",
     "output_type": "stream",
     "text": [
      "Predicted Category:  Ankle boot\n"
     ]
    },
    {
     "data": {
      "image/png": "[encoded data removed]",
      "text/plain": [
       "<Figure size 576x432 with 1 Axes>"
      ]
     },
     "metadata": {
      "needs_background": "light"
     },
     "output_type": "display_data"
    }
   ],
   "source": [
    "#random sample testing\n",
    "import random\n",
    "image_index = random.randint(0,test_images.shape[0])\n",
    "random_image = test_images[image_index]\n",
    "random_label = model.predict(random_image.reshape(1,random_image.shape[0])).argmax(axis=-1)\n",
    "plt.subplot(221)\n",
    "plt.imshow(random_image.reshape(28,28), cmap=plt.get_cmap('gray'))\n",
    "print(\"Predicted Category: \",str(labelNames[int(random_label)]))\n",
    "plt.show()"
   ]
  },
  {
   "cell_type": "code",
   "execution_count": null,
   "metadata": {},
   "outputs": [],
   "source": []
  },
  {
   "cell_type": "code",
   "execution_count": null,
   "metadata": {},
   "outputs": [],
   "source": []
  }
 ],
 "metadata": {
  "kernelspec": {
   "display_name": "Python 3",
   "language": "python",
   "name": "python3"
  },
  "language_info": {
   "codemirror_mode": {
    "name": "ipython",
    "version": 3
   },
   "file_extension": ".py",
   "mimetype": "text/x-python",
   "name": "python",
   "nbconvert_exporter": "python",
   "pygments_lexer": "ipython3",
   "version": "3.5.5"
  }
 },
 "nbformat": 4,
 "nbformat_minor": 2
}
